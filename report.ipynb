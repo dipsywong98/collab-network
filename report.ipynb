{
 "cells": [
  {
   "cell_type": "markdown",
   "metadata": {},
   "source": [
    "# Collaboration Network Analysis"
   ]
  },
  {
   "cell_type": "code",
   "execution_count": 3,
   "metadata": {},
   "outputs": [],
   "source": [
    "import networkx as nx\n",
    "import matplotlib.pyplot as plt\n",
    "from pyvis.network import Network"
   ]
  },
  {
   "cell_type": "markdown",
   "metadata": {},
   "source": [
    "## 1. Load and preprocess the collaboration data"
   ]
  },
  {
   "cell_type": "code",
   "execution_count": 4,
   "metadata": {},
   "outputs": [],
   "source": [
    "coautherfile = open('data/AMiner-Coauthor.txt')\n",
    "coauthers = []\n",
    "for line in coautherfile:\n",
    "    auther1, auther2, count = line[1:-1].split('\\t')\n",
    "    coauthers.append((auther1, auther2, int(count)))"
   ]
  },
  {
   "cell_type": "code",
   "execution_count": 5,
   "metadata": {},
   "outputs": [
    {
     "data": {
      "text/plain": [
       "[('522324', '1034146', 1),\n",
       " ('1355779', '1229932', 2),\n",
       " ('688814', '947067', 2),\n",
       " ('1329221', '1140429', 1),\n",
       " ('742331', '314944', 1),\n",
       " ('898041', '1061829', 1),\n",
       " ('1075448', '1040028', 1),\n",
       " ('1218654', '1244844', 2),\n",
       " ('117148', '364153', 2),\n",
       " ('1335705', '738530', 1)]"
      ]
     },
     "execution_count": 5,
     "metadata": {},
     "output_type": "execute_result"
    }
   ],
   "source": [
    "coauthers[:10]"
   ]
  },
  {
   "cell_type": "code",
   "execution_count": 6,
   "metadata": {},
   "outputs": [
    {
     "data": {
      "text/plain": [
       "[('111806', '977442', 320),\n",
       " ('966551', '111806', 320),\n",
       " ('966551', '977442', 320),\n",
       " ('980079', '68033', 310),\n",
       " ('549347', '80953', 306),\n",
       " ('324627', '33938', 234),\n",
       " ('860814', '1693619', 216),\n",
       " ('946534', '1536687', 194),\n",
       " ('833156', '815734', 143),\n",
       " ('218997', '173556', 132)]"
      ]
     },
     "execution_count": 6,
     "metadata": {},
     "output_type": "execute_result"
    }
   ],
   "source": [
    "sortedcoauthers = sorted(coauthers, key = lambda coauth: -coauth[2])\n",
    "sortedcoauthers[:10]"
   ]
  },
  {
   "cell_type": "markdown",
   "metadata": {},
   "source": [
    "## 2. Visualize the top 10 collaboration pairs"
   ]
  },
  {
   "cell_type": "code",
   "execution_count": 14,
   "metadata": {},
   "outputs": [],
   "source": [
    "# Credit: https://gist.github.com/quadrismegistus/92a7fba479fc1e7d2661909d19d4ae7e\n",
    "\n",
    "def visualize(networkx_graph, name):\n",
    "    pyvis_graph = Network(height=800, width=800, notebook=True)\n",
    "    for node,node_attrs in networkx_graph.nodes(data=True):\n",
    "        pyvis_graph.add_node(node,**node_attrs)\n",
    "\n",
    "    # for each edge and its attributes in the networkx graph\n",
    "    for source,target,edge_attrs in networkx_graph.edges(data=True):\n",
    "        # if value/width not specified directly, and weight is specified, set 'value' to 'weight'\n",
    "        if not 'value' in edge_attrs and not 'width' in edge_attrs and 'weight' in edge_attrs:\n",
    "            # place at key 'value' the weight of the edge\n",
    "            edge_attrs['value']=edge_attrs['weight']\n",
    "        # add the edge\n",
    "        pyvis_graph.add_edge(source,target,**edge_attrs)\n",
    "\n",
    "    return pyvis_graph.show('docs/' + name)"
   ]
  },
  {
   "cell_type": "code",
   "execution_count": 11,
   "metadata": {},
   "outputs": [],
   "source": [
    "def make_graph(coauth_tuples):\n",
    "    G = nx.Graph()\n",
    "    for coauther in coauth_tuples:\n",
    "        G.add_edge(coauther[0], coauther[1], weight=coauther[2])\n",
    "    return G"
   ]
  },
  {
   "cell_type": "code",
   "execution_count": 12,
   "metadata": {},
   "outputs": [
    {
     "data": {
      "text/html": [
       "\n",
       "        <iframe\n",
       "            width=\"800\"\n",
       "            height=\"800\"\n",
       "            src=\"docs/top10.html\"\n",
       "            frameborder=\"0\"\n",
       "            allowfullscreen\n",
       "        ></iframe>\n",
       "        "
      ],
      "text/plain": [
       "<IPython.lib.display.IFrame at 0x7faacefe73d0>"
      ]
     },
     "execution_count": 12,
     "metadata": {},
     "output_type": "execute_result"
    }
   ],
   "source": [
    "visualize(make_graph(sortedcoauthers[:10]), 'top10.html')"
   ]
  },
  {
   "cell_type": "code",
   "execution_count": 17,
   "metadata": {},
   "outputs": [
    {
     "data": {
      "text/html": [
       "\n",
       "        <iframe\n",
       "            width=\"800\"\n",
       "            height=\"800\"\n",
       "            src=\"docs/all.html\"\n",
       "            frameborder=\"0\"\n",
       "            allowfullscreen\n",
       "        ></iframe>\n",
       "        "
      ],
      "text/plain": [
       "<IPython.lib.display.IFrame at 0x7faacefe7290>"
      ]
     },
     "execution_count": 17,
     "metadata": {},
     "output_type": "execute_result"
    }
   ],
   "source": [
    "visualize(make_graph(sortedcoauthers[:1000]), 'top1000.html')"
   ]
  }
 ],
 "metadata": {
  "kernelspec": {
   "display_name": "Python 3",
   "language": "python",
   "name": "python3"
  },
  "language_info": {
   "codemirror_mode": {
    "name": "ipython",
    "version": 3
   },
   "file_extension": ".py",
   "mimetype": "text/x-python",
   "name": "python",
   "nbconvert_exporter": "python",
   "pygments_lexer": "ipython3",
   "version": "3.7.4"
  }
 },
 "nbformat": 4,
 "nbformat_minor": 4
}
