{
 "cells": [
  {
   "cell_type": "markdown",
   "metadata": {},
   "source": [
    "# Collaboration Network Analysis"
   ]
  },
  {
   "cell_type": "code",
   "execution_count": 1,
   "metadata": {},
   "outputs": [],
   "source": [
    "import networkx as nx\n",
    "import matplotlib.pyplot as plt\n",
    "from pyvis.network import Network"
   ]
  },
  {
   "cell_type": "markdown",
   "metadata": {},
   "source": [
    "## 1. Load and preprocess the collaboration data"
   ]
  },
  {
   "cell_type": "code",
   "execution_count": 2,
   "metadata": {
    "scrolled": true
   },
   "outputs": [],
   "source": [
    "'''\n",
    "#index 1\n",
    "#n O. Willum\n",
    "#a Res. Center for Microperipherik, Technische Univ. Berlin, Germany\n",
    "#pc 1\n",
    "#cn 0\n",
    "#hi 0\n",
    "#pi 0.0000\n",
    "#upi 0.0000\n",
    "#t new product;product group;active product;long product lifetime;old product;product generation;new technology;environmental benefit;environmental choice;environmental consequence\n",
    "'''\n",
    "\n",
    "with open('data/AMiner-Author.txt', 'r') as file:\n",
    "    data = file.read().split('\\n\\n')\n",
    "    \n",
    "author={}    \n",
    "detail = ['index','n', 'a', 'pc', 'cn', 'hi', 'pi', 'upi', 't']\n",
    "for auth in data:\n",
    "    info = auth.split('\\n')\n",
    "    if info[0] is '':\n",
    "        break\n",
    "    index = info[0].split(' ')[1]\n",
    "    author[index]={}\n",
    "    for num,each in enumerate(detail):\n",
    "        author[index][each] = info[num].replace('#'+each+' ', '')\n",
    "    author[index]['a'] = author[index]['a'].split(', ')\n",
    "    author[index]['t'] = author[index]['t'].split(';')\n",
    "    author[index]['field'] = []\n",
    "    author[index]['field']+=([item for field in author[index]['t'] for item in field.split(' ')])"
   ]
  },
  {
   "cell_type": "code",
   "execution_count": 3,
   "metadata": {},
   "outputs": [],
   "source": [
    "def filter(keyword, by_type):\n",
    "    filtered_list = []\n",
    "    for index in author:\n",
    "        if keyword in author[index][by_type]:\n",
    "            filtered_list.append(index)\n",
    "    return filtered_list"
   ]
  },
  {
   "cell_type": "code",
   "execution_count": 4,
   "metadata": {},
   "outputs": [],
   "source": [
    "coauthorfile = open('data/AMiner-Coauthor.txt')\n",
    "coauthors = []\n",
    "for line in coauthorfile:\n",
    "    author1, author2, count = line[1:].split('\\t')\n",
    "    coauthors.append((author1, author2, int(count)))"
   ]
  },
  {
   "cell_type": "code",
   "execution_count": 5,
   "metadata": {},
   "outputs": [
    {
     "data": {
      "text/plain": [
       "[('522324', '1034146', 1),\n",
       " ('1355779', '1229932', 2),\n",
       " ('688814', '947067', 2),\n",
       " ('1329221', '1140429', 1),\n",
       " ('742331', '314944', 1),\n",
       " ('898041', '1061829', 1),\n",
       " ('1075448', '1040028', 1),\n",
       " ('1218654', '1244844', 2),\n",
       " ('117148', '364153', 2),\n",
       " ('1335705', '738530', 1)]"
      ]
     },
     "execution_count": 5,
     "metadata": {},
     "output_type": "execute_result"
    }
   ],
   "source": [
    "coauthors[:10]"
   ]
  },
  {
   "cell_type": "code",
   "execution_count": 6,
   "metadata": {
    "scrolled": true
   },
   "outputs": [
    {
     "data": {
      "text/plain": [
       "[('111806', '977442', 320),\n",
       " ('966551', '111806', 320),\n",
       " ('966551', '977442', 320),\n",
       " ('980079', '68033', 310),\n",
       " ('549347', '80953', 306),\n",
       " ('324627', '33938', 234),\n",
       " ('860814', '1693619', 216),\n",
       " ('946534', '1536687', 194),\n",
       " ('833156', '815734', 143),\n",
       " ('218997', '173556', 132)]"
      ]
     },
     "execution_count": 6,
     "metadata": {},
     "output_type": "execute_result"
    }
   ],
   "source": [
    "sortedcoauthors = sorted(coauthors, key = lambda coauth: -coauth[2])\n",
    "sortedcoauthors[:10]"
   ]
  },
  {
   "cell_type": "markdown",
   "metadata": {},
   "source": [
    "## 2. Visualize the top 10 collaboration pairs"
   ]
  },
  {
   "cell_type": "code",
   "execution_count": 7,
   "metadata": {},
   "outputs": [],
   "source": [
    "# Credit: https://gist.github.com/quadrismegistus/92a7fba479fc1e7d2661909d19d4ae7e\n",
    "\n",
    "def visualize(networkx_graph, name):\n",
    "    pyvis_graph = Network(height=800, width=800, notebook=True)\n",
    "    for node,node_attrs in networkx_graph.nodes(data=True):\n",
    "        pyvis_graph.add_node(node,**node_attrs)\n",
    "\n",
    "    # for each edge and its attributes in the networkx graph\n",
    "    for source,target,edge_attrs in networkx_graph.edges(data=True):\n",
    "        # if value/width not specified directly, and weight is specified, set 'value' to 'weight'\n",
    "        if not 'value' in edge_attrs and not 'width' in edge_attrs and 'weight' in edge_attrs:\n",
    "            # place at key 'value' the weight of the edge\n",
    "            edge_attrs['value']=edge_attrs['weight']\n",
    "        # add the edge\n",
    "        pyvis_graph.add_edge(source,target,**edge_attrs)\n",
    "\n",
    "    return pyvis_graph.show('docs/' + name)"
   ]
  },
  {
   "cell_type": "code",
   "execution_count": 8,
   "metadata": {},
   "outputs": [],
   "source": [
    "def make_graph(coauth_tuples):\n",
    "    G = nx.Graph()\n",
    "    for coauthor in coauth_tuples:\n",
    "        G.add_edge(coauthor[0], coauthor[1], weight=coauthor[2])\n",
    "    return G"
   ]
  },
  {
   "cell_type": "code",
   "execution_count": 9,
   "metadata": {},
   "outputs": [],
   "source": [
    "#remove all disconnected nodes to node\n",
    "\n",
    "import copy\n",
    "def remove_disconnected(G, node):\n",
    "    node_list = copy.deepcopy(nx.nodes(G))\n",
    "    for each in node_list:\n",
    "        if nx.has_path(G,source=each, target=node) == 0:\n",
    "            G.remove_node(each)"
   ]
  },
  {
   "cell_type": "code",
   "execution_count": 10,
   "metadata": {},
   "outputs": [],
   "source": [
    "# visualize(make_graph(sortedcoauthers[:10]), 'top10.html')"
   ]
  },
  {
   "cell_type": "code",
   "execution_count": 11,
   "metadata": {},
   "outputs": [],
   "source": [
    "# visualize(make_graph(sortedcoauthers[:1000]), 'top1000.html')"
   ]
  },
  {
   "cell_type": "code",
   "execution_count": 12,
   "metadata": {},
   "outputs": [
    {
     "name": "stdout",
     "output_type": "stream",
     "text": [
      "whole graph connected:  False\n",
      "numbers of node in whole graph 1560640\n",
      "nodes with maximum degree ['1642231']\n",
      "degree 551\n"
     ]
    }
   ],
   "source": [
    "G = make_graph(coauthors)\n",
    "print('whole graph connected: ',nx.is_connected(G))\n",
    "print('numbers of node in whole graph',G.number_of_nodes())\n",
    "\n",
    "# finding maximum degree node of whole graph\n",
    "node_id = []\n",
    "deg = 0\n",
    "\n",
    "for node in nx.nodes(G):\n",
    "    if G.degree[node] > deg:\n",
    "        node_id = [node]\n",
    "        deg = G.degree[node]\n",
    "    elif G.degree[node] == deg:\n",
    "        node_id.append(node)  \n",
    "print(\"nodes with maximum degree\", node_id)\n",
    "print('degree' ,deg)"
   ]
  },
  {
   "cell_type": "code",
   "execution_count": null,
   "metadata": {},
   "outputs": [],
   "source": [
    "# connected graph for node '1642231'\n",
    "remove_disconnected(G, '1642231')\n",
    "print('number of node after removed: ',G.number_of_nodes())\n",
    "print('all connected: ',nx.is_connected(G))"
   ]
  },
  {
   "cell_type": "markdown",
   "metadata": {},
   "source": [
    "## 3. Filter data"
   ]
  },
  {
   "cell_type": "code",
   "execution_count": 13,
   "metadata": {},
   "outputs": [],
   "source": [
    "mathematics = filter('mathematics', 'field')"
   ]
  },
  {
   "cell_type": "code",
   "execution_count": null,
   "metadata": {},
   "outputs": [],
   "source": [
    "print(mathematics)"
   ]
  },
  {
   "cell_type": "code",
   "execution_count": 14,
   "metadata": {},
   "outputs": [],
   "source": [
    "math_graph = nx.Graph.subgraph(G, mathematics)"
   ]
  },
  {
   "cell_type": "code",
   "execution_count": 16,
   "metadata": {
    "scrolled": true
   },
   "outputs": [
    {
     "data": {
      "text/html": [
       "\n",
       "        <iframe\n",
       "            width=\"800\"\n",
       "            height=\"800\"\n",
       "            src=\"docs/mathematics.html\"\n",
       "            frameborder=\"0\"\n",
       "            allowfullscreen\n",
       "        ></iframe>\n",
       "        "
      ],
      "text/plain": [
       "<IPython.lib.display.IFrame at 0x2e7ba3908>"
      ]
     },
     "execution_count": 16,
     "metadata": {},
     "output_type": "execute_result"
    }
   ],
   "source": [
    "visualize(math_graph, 'mathematics.html')"
   ]
  },
  {
   "cell_type": "code",
   "execution_count": 17,
   "metadata": {},
   "outputs": [],
   "source": [
    "graph = filter('graph', 'field')"
   ]
  },
  {
   "cell_type": "code",
   "execution_count": 18,
   "metadata": {},
   "outputs": [],
   "source": [
    "graph_graph = nx.Graph.subgraph(G, graph)"
   ]
  },
  {
   "cell_type": "code",
   "execution_count": 19,
   "metadata": {},
   "outputs": [
    {
     "data": {
      "text/html": [
       "\n",
       "        <iframe\n",
       "            width=\"800\"\n",
       "            height=\"800\"\n",
       "            src=\"docs/graph.html\"\n",
       "            frameborder=\"0\"\n",
       "            allowfullscreen\n",
       "        ></iframe>\n",
       "        "
      ],
      "text/plain": [
       "<IPython.lib.display.IFrame at 0x2e7b8c198>"
      ]
     },
     "execution_count": 19,
     "metadata": {},
     "output_type": "execute_result"
    }
   ],
   "source": [
    "visualize(graph_graph, 'graph.html')"
   ]
  },
  {
   "cell_type": "code",
   "execution_count": null,
   "metadata": {},
   "outputs": [],
   "source": [
    "math = filter('Beifang Chen', 'n')"
   ]
  },
  {
   "cell_type": "code",
   "execution_count": null,
   "metadata": {},
   "outputs": [],
   "source": [
    "print(math)"
   ]
  },
  {
   "cell_type": "code",
   "execution_count": null,
   "metadata": {},
   "outputs": [],
   "source": [
    "print(author['1082338'])"
   ]
  },
  {
   "cell_type": "code",
   "execution_count": null,
   "metadata": {},
   "outputs": [],
   "source": [
    "print(author['188513'])"
   ]
  }
 ],
 "metadata": {
  "kernelspec": {
   "display_name": "Python 3",
   "language": "python",
   "name": "python3"
  },
  "language_info": {
   "codemirror_mode": {
    "name": "ipython",
    "version": 3
   },
   "file_extension": ".py",
   "mimetype": "text/x-python",
   "name": "python",
   "nbconvert_exporter": "python",
   "pygments_lexer": "ipython3",
   "version": "3.7.3"
  }
 },
 "nbformat": 4,
 "nbformat_minor": 4
}
