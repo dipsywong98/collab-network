{
 "cells": [
  {
   "cell_type": "markdown",
   "metadata": {},
   "source": [
    "# Collaboration Network Analysis\n",
    "\n",
    "## 0. Initialize"
   ]
  },
  {
   "cell_type": "code",
   "execution_count": 1,
   "metadata": {},
   "outputs": [],
   "source": [
    "import networkx as nx\n",
    "from pyvis.network import Network"
   ]
  },
  {
   "cell_type": "code",
   "execution_count": 2,
   "metadata": {
    "pycharm": {
     "name": "#%%\n"
    }
   },
   "outputs": [],
   "source": [
    "# global variables\n",
    "\n",
    "data_cache_prefix = 'data_cache/'\n",
    "graph_suffix = '.adjlist.gz'\n",
    "json_suffix = '.json.gz'\n",
    "database_file = data_cache_prefix+\"author.db\""
   ]
  },
  {
   "cell_type": "code",
   "execution_count": 3,
   "metadata": {
    "pycharm": {
     "name": "#%%\n"
    }
   },
   "outputs": [],
   "source": [
    "# caching helpers\n",
    "from lib.cache import *"
   ]
  },
  {
   "cell_type": "code",
   "execution_count": 4,
   "metadata": {
    "pycharm": {
     "name": "#%%\n"
    }
   },
   "outputs": [],
   "source": [
    "# database helpers\n",
    "from lib.db import *\n"
   ]
  },
  {
   "cell_type": "markdown",
   "metadata": {},
   "source": [
    "## 1. Load and preprocess the collaboration data."
   ]
  },
  {
   "cell_type": "code",
   "execution_count": 5,
   "metadata": {
    "pycharm": {
     "name": "#%%\n"
    }
   },
   "outputs": [
    {
     "name": "stdout",
     "output_type": "stream",
     "text": [
      "data_cache/author.db already exist, skipping author processing\n"
     ]
    }
   ],
   "source": [
    "# Process author data and store to database\n",
    "\n",
    "'''\n",
    "#index 1\n",
    "#n O. Willum\n",
    "#a Res. Center for Microperipherik, Technische Univ. Berlin, Germany\n",
    "#pc 1\n",
    "#cn 0\n",
    "#hi 0\n",
    "#pi 0.0000\n",
    "#upi 0.0000\n",
    "#t new product;product group;active product;long product lifetime;old product;product generation;new technology;environmental benefit;environmental choice;environmental consequence\n",
    "'''\n",
    "def process_author_sqlite():\n",
    "    with open('data/AMiner-Author.txt', 'r') as file:\n",
    "        data = file.read().split('\\n\\n')\n",
    "\n",
    "    database = data_cache_prefix+\"author.db\"\n",
    "    conn = create_connection(database)\n",
    "\n",
    "    # create tables\n",
    "    if conn is None:\n",
    "        # create projects table\n",
    "        print(\"Error! cannot create the database connection.\")\n",
    "    else:\n",
    "        with conn:\n",
    "            create_author_table(conn)\n",
    "\n",
    "            detail = ['index', 'n', 'a', 'pc', 'cn', 'hi', 'pi', 'upi', 't']\n",
    "            total = len(data)\n",
    "            for n, auth in enumerate(data):\n",
    "                info = auth.split('\\n')\n",
    "                if info[0] is '':\n",
    "                    break\n",
    "                index = info[0].split(' ')[1]\n",
    "                author = [0,0,0,0,0,0,0,0,0]\n",
    "                for num,each in enumerate(detail):\n",
    "                    author[num] = info[num].replace('#'+each+' ', '')\n",
    "                create_author(conn, author)\n",
    "                if n % 10000 == 0:\n",
    "                    print(\"processed %d/%d\"%(n,total))\n",
    "    conn.close()\n",
    "\n",
    "if os.path.isfile(database_file):\n",
    "    print('%s already exist, skipping author processing'%database_file)\n",
    "else:\n",
    "    print('processing authors')\n",
    "    process_author_sqlite()"
   ]
  },
  {
   "cell_type": "code",
   "execution_count": 6,
   "metadata": {},
   "outputs": [],
   "source": [
    "def filter(keyword, by_type):\n",
    "    with create_connection(database_file) as conn:\n",
    "        rows = conn.cursor().execute(\n",
    "            f\"\"\"\n",
    "            SELECT idx FROM authors WHERE {by_type} LIKE '%'||?||'%'\n",
    "            \"\"\"\n",
    "        ,[keyword]).fetchall()\n",
    "        return [row[0] for row in rows]"
   ]
  },
  {
   "cell_type": "code",
   "execution_count": 7,
   "metadata": {},
   "outputs": [],
   "source": [
    "coauthorfile = open('data/AMiner-Coauthor.txt')\n",
    "coauthors = []\n",
    "for line in coauthorfile:\n",
    "    author1, author2, count = line[1:].split('\\t')\n",
    "    coauthors.append((author1, author2, int(count)))"
   ]
  },
  {
   "cell_type": "code",
   "execution_count": 8,
   "metadata": {},
   "outputs": [
    {
     "data": {
      "text/plain": "[('522324', '1034146', 1),\n ('1355779', '1229932', 2),\n ('688814', '947067', 2),\n ('1329221', '1140429', 1),\n ('742331', '314944', 1),\n ('898041', '1061829', 1),\n ('1075448', '1040028', 1),\n ('1218654', '1244844', 2),\n ('117148', '364153', 2),\n ('1335705', '738530', 1)]"
     },
     "execution_count": 8,
     "metadata": {},
     "output_type": "execute_result"
    }
   ],
   "source": [
    "coauthors[:10]"
   ]
  },
  {
   "cell_type": "code",
   "execution_count": 9,
   "metadata": {
    "scrolled": true
   },
   "outputs": [
    {
     "data": {
      "text/plain": "[('111806', '977442', 320),\n ('966551', '111806', 320),\n ('966551', '977442', 320),\n ('980079', '68033', 310),\n ('549347', '80953', 306),\n ('324627', '33938', 234),\n ('860814', '1693619', 216),\n ('946534', '1536687', 194),\n ('833156', '815734', 143),\n ('218997', '173556', 132)]"
     },
     "execution_count": 9,
     "metadata": {},
     "output_type": "execute_result"
    }
   ],
   "source": [
    "sortedcoauthors = sorted(coauthors, key = lambda coauth: -coauth[2])\n",
    "sortedcoauthors[:10]"
   ]
  },
  {
   "cell_type": "markdown",
   "metadata": {},
   "source": [
    "## 2. Visualize the top 10 collaboration pairs"
   ]
  },
  {
   "cell_type": "code",
   "execution_count": 10,
   "metadata": {},
   "outputs": [],
   "source": [
    "# Credit: https://gist.github.com/quadrismegistus/92a7fba479fc1e7d2661909d19d4ae7e\n",
    "\n",
    "def visualize(networkx_graph, name):\n",
    "    pyvis_graph = Network(height=800, width=800, notebook=True)\n",
    "    for node,node_attrs in networkx_graph.nodes(data=True):\n",
    "        pyvis_graph.add_node(node,**node_attrs)\n",
    "\n",
    "    # for each edge and its attributes in the networkx graph\n",
    "    for source,target,edge_attrs in networkx_graph.edges(data=True):\n",
    "        # if value/width not specified directly, and weight is specified, set 'value' to 'weight'\n",
    "        if not 'value' in edge_attrs and not 'width' in edge_attrs and 'weight' in edge_attrs:\n",
    "            # place at key 'value' the weight of the edge\n",
    "            edge_attrs['value']=edge_attrs['weight']\n",
    "        # add the edge\n",
    "        pyvis_graph.add_edge(source,target,**edge_attrs)\n",
    "\n",
    "    return pyvis_graph.show('docs/' + name)"
   ]
  },
  {
   "cell_type": "code",
   "execution_count": 11,
   "metadata": {},
   "outputs": [],
   "source": [
    "def make_graph(coauth_tuples):\n",
    "    G = nx.Graph()\n",
    "    for coauthor in coauth_tuples:\n",
    "        G.add_edge(coauthor[0], coauthor[1], weight=coauthor[2])\n",
    "    return G"
   ]
  },
  {
   "cell_type": "code",
   "execution_count": 12,
   "metadata": {},
   "outputs": [],
   "source": [
    "#remove all disconnected nodes to node\n",
    "\n",
    "import copy\n",
    "def remove_disconnected(G, node):\n",
    "    node_list = copy.deepcopy(nx.nodes(G))\n",
    "    for each in node_list:\n",
    "        if nx.has_path(G,source=each, target=node) == 0:\n",
    "            G.remove_node(each)\n",
    "    return G"
   ]
  },
  {
   "cell_type": "code",
   "execution_count": 13,
   "metadata": {},
   "outputs": [],
   "source": [
    "# visualize(make_graph(sortedcoauthers[:10]), 'top10.html')"
   ]
  },
  {
   "cell_type": "code",
   "execution_count": 14,
   "metadata": {},
   "outputs": [],
   "source": [
    "# visualize(make_graph(sortedcoauthers[:1000]), 'top1000.html')"
   ]
  },
  {
   "cell_type": "code",
   "execution_count": 15,
   "metadata": {},
   "outputs": [
    {
     "name": "stdout",
     "output_type": "stream",
     "text": [
      "loaded cached whole_graph\n",
      "whole graph connected:  False\n",
      "numbers of node in whole graph 1560640\n",
      "nodes with maximum degree ['1642231']\n",
      "degree 551\n"
     ]
    }
   ],
   "source": [
    "G = open_or_compute_graph('whole_graph',lambda: make_graph(coauthors))\n",
    "print('whole graph connected: ',nx.is_connected(G))\n",
    "print('numbers of node in whole graph',G.number_of_nodes())\n",
    "\n",
    "# finding maximum degree node of whole graph\n",
    "node_id = []\n",
    "deg = 0\n",
    "\n",
    "for node in nx.nodes(G):\n",
    "    if G.degree[node] > deg:\n",
    "        node_id = [node]\n",
    "        deg = G.degree[node]\n",
    "    elif G.degree[node] == deg:\n",
    "        node_id.append(node)  \n",
    "print(\"nodes with maximum degree\", node_id)\n",
    "print('degree' ,deg)"
   ]
  },
  {
   "cell_type": "code",
   "execution_count": 16,
   "metadata": {},
   "outputs": [
    {
     "name": "stdout",
     "output_type": "stream",
     "text": [
      "loaded cached removed_disconnected\n",
      "number of node after removed:  1057194\n",
      "all connected:  True\n"
     ]
    }
   ],
   "source": [
    "# connected graph for node '1642231'\n",
    "\n",
    "G = open_or_compute_graph('removed_disconnected', lambda: remove_disconnected(G, '1642231'))\n",
    "\n",
    "print('number of node after removed: ',G.number_of_nodes())\n",
    "print('all connected: ',nx.is_connected(G))"
   ]
  },
  {
   "cell_type": "markdown",
   "metadata": {},
   "source": [
    "## 3. Filter data"
   ]
  },
  {
   "cell_type": "code",
   "execution_count": 17,
   "metadata": {},
   "outputs": [
    {
     "name": "stdout",
     "output_type": "stream",
     "text": [
      "2.6.0\n"
     ]
    }
   ],
   "source": [
    "mathematics = filter('mathematics', 't')"
   ]
  },
  {
   "cell_type": "code",
   "execution_count": 18,
   "metadata": {},
   "outputs": [
    {
     "name": "stdout",
     "output_type": "stream",
     "text": [
      "2934 ['200', '665', '688', '2260', '2702', '3663', '5367', '5489', '6086', '6420']\n"
     ]
    }
   ],
   "source": [
    "print(len(mathematics), mathematics[:10])"
   ]
  },
  {
   "cell_type": "code",
   "execution_count": 19,
   "metadata": {},
   "outputs": [
    {
     "name": "stdout",
     "output_type": "stream",
     "text": [
      "loaded cached math\n"
     ]
    }
   ],
   "source": [
    "G = open_or_compute_graph('math', lambda: G.subgraph(mathematics))"
   ]
  },
  {
   "cell_type": "code",
   "execution_count": 20,
   "metadata": {
    "pycharm": {
     "name": "#%%\n"
    }
   },
   "outputs": [
    {
     "name": "stdout",
     "output_type": "stream",
     "text": [
      "nodes with maximum degree ['1642231']\n",
      "degree 551\n"
     ]
    }
   ],
   "source": [
    "for node in nx.nodes(G):\n",
    "    if G.degree[node] > deg:\n",
    "        node_id = [node]\n",
    "        deg = G.degree[node]\n",
    "    elif G.degree[node] == deg:\n",
    "        node_id.append(node)\n",
    "print(\"nodes with maximum degree\", node_id)\n",
    "print('degree' ,deg)\n"
   ]
  },
  {
   "cell_type": "code",
   "execution_count": 21,
   "metadata": {
    "pycharm": {
     "name": "#%%\n"
    }
   },
   "outputs": [],
   "source": [
    "# del author\n",
    "# del coauthorfile\n",
    "# del coauthors\n",
    "# del mathematics\n",
    "# del sortedcoauthors"
   ]
  },
  {
   "cell_type": "code",
   "execution_count": 22,
   "metadata": {
    "pycharm": {
     "name": "#%%\n"
    }
   },
   "outputs": [
    {
     "data": {
      "text/plain": "<IPython.lib.display.IFrame at 0x7f16bd206990>",
      "text/html": "\n        <iframe\n            width=\"800\"\n            height=\"800\"\n            src=\"docs/math.html\"\n            frameborder=\"0\"\n            allowfullscreen\n        ></iframe>\n        "
     },
     "execution_count": 22,
     "metadata": {},
     "output_type": "execute_result"
    }
   ],
   "source": [
    "visualize(G,'math.html')"
   ]
  },
  {
   "cell_type": "code",
   "execution_count": 23,
   "metadata": {
    "pycharm": {
     "name": "#%%\n"
    }
   },
   "outputs": [
    {
     "data": {
      "text/plain": "<IPython.lib.display.IFrame at 0x7f1726dc2bd0>",
      "text/html": "\n        <iframe\n            width=\"800\"\n            height=\"800\"\n            src=\"docs/max_clique_math.html\"\n            frameborder=\"0\"\n            allowfullscreen\n        ></iframe>\n        "
     },
     "execution_count": 23,
     "metadata": {},
     "output_type": "execute_result"
    }
   ],
   "source": [
    "# maxG = nx.make_max_clique_graph(G)\n",
    "maxG = sorted(list(nx.algorithms.clique.find_cliques(G)), key=len, reverse=True)[0]\n",
    "\n",
    "\n",
    "visualize(G.subgraph(maxG), 'max_clique_math.html')"
   ]
  },
  {
   "cell_type": "code",
   "execution_count": 24,
   "metadata": {
    "pycharm": {
     "name": "#%%\n"
    }
   },
   "outputs": [
    {
     "data": {
      "text/plain": "ColorPicker(value='black', description='Pick a color')",
      "application/vnd.jupyter.widget-view+json": {
       "version_major": 2,
       "version_minor": 0,
       "model_id": "66a4be0f0a444b178095dde50a61b035"
      }
     },
     "metadata": {},
     "output_type": "display_data"
    }
   ],
   "source": [
    "from IPython import display\n",
    "from ipywidgets import widgets\n",
    "colorpicker = widgets.ColorPicker(\n",
    "    concise=False,\n",
    "    description='Pick a color',\n",
    "    value='black',\n",
    "    disabled=False\n",
    ")\n",
    "display.display(colorpicker)"
   ]
  },
  {
   "cell_type": "code",
   "execution_count": 25,
   "metadata": {},
   "outputs": [
    {
     "name": "stdout",
     "output_type": "stream",
     "text": [
      "loaded cached whole_graph\n"
     ]
    }
   ],
   "source": [
    "whole_graph = open_or_compute_graph('whole_graph',lambda: make_graph(coauthors))"
   ]
  },
  {
   "cell_type": "code",
   "execution_count": 26,
   "metadata": {},
   "outputs": [
    {
     "name": "stdout",
     "output_type": "stream",
     "text": [
      "loaded cached math\n"
     ]
    }
   ],
   "source": [
    "G = open_or_compute_graph('math',lambda: make_graph(coauthors))"
   ]
  },
  {
   "cell_type": "code",
   "execution_count": 27,
   "metadata": {},
   "outputs": [],
   "source": [
    "import matplotlib.pyplot as plt"
   ]
  },
  {
   "cell_type": "code",
   "execution_count": 28,
   "metadata": {},
   "outputs": [
    {
     "data": {
      "text/plain": "[(['1476684',\n   '70370',\n   '33726',\n   '643841',\n   '1034774',\n   '543320',\n   '568682',\n   '124974',\n   '1477467',\n   '1063425',\n   '1539536',\n   '832521',\n   '128473',\n   '131923',\n   '894460',\n   '505153',\n   '508889',\n   '1101031',\n   '726948',\n   '937947',\n   '1437117',\n   '1532971',\n   '1058249',\n   '1306440',\n   '659462',\n   '522983',\n   '1249075',\n   '1300912'],\n  [('1476684', '128473', 1.0),\n   ('1476684', '1477467', 1.0),\n   ('70370', '894460', 2.0),\n   ('70370', '508889', 1.0),\n   ('70370', '1539536', 2.0),\n   ('70370', '1101031', 2.0),\n   ('70370', '1058249', 1.0),\n   ('70370', '1249075', 2.0),\n   ('33726', '894460', 1.0),\n   ('33726', '1034774', 3.0),\n   ('643841', '505153', 1.0),\n   ('643841', '543320', 1.0),\n   ('643841', '937947', 1.0),\n   ('643841', '659462', 1.0),\n   ('1034774', '894460', 1.0),\n   ('1034774', '522983', 1.0),\n   ('1034774', '659462', 3.0),\n   ('1034774', '1437117', 1.0),\n   ('1034774', '124974', 1.0),\n   ('543320', '505153', 1.0),\n   ('543320', '659462', 1.0),\n   ('543320', '937947', 1.0),\n   ('568682', '1063425', 1.0),\n   ('568682', '832521', 1.0),\n   ('124974', '659462', 1.0),\n   ('124974', '1437117', 1.0),\n   ('1477467', '894460', 2.0),\n   ('1477467', '1532971', 1.0),\n   ('1477467', '832521', 1.0),\n   ('1477467', '128473', 3.0),\n   ('1063425', '832521', 1.0),\n   ('1539536', '894460', 2.0),\n   ('1539536', '1249075', 2.0),\n   ('1539536', '1101031', 2.0),\n   ('1539536', '508889', 1.0),\n   ('832521', '1532971', 1.0),\n   ('832521', '128473', 1.0),\n   ('128473', '894460', 1.0),\n   ('128473', '1300912', 1.0),\n   ('128473', '1532971', 1.0),\n   ('128473', '131923', 1.0),\n   ('128473', '1306440', 2.0),\n   ('128473', '726948', 1.0),\n   ('131923', '726948', 1.0),\n   ('894460', '1249075', 2.0),\n   ('894460', '508889', 1.0),\n   ('894460', '1101031', 2.0),\n   ('505153', '937947', 3.0),\n   ('505153', '659462', 2.0),\n   ('508889', '1249075', 1.0),\n   ('508889', '1101031', 1.0),\n   ('1101031', '1249075', 2.0),\n   ('937947', '659462', 2.0),\n   ('1437117', '659462', 2.0)]),\n (['909655',\n   '1322351',\n   '1392773',\n   '617339',\n   '221357',\n   '693865',\n   '516146',\n   '110152',\n   '709082',\n   '590966',\n   '1272562',\n   '865122',\n   '23675',\n   '1526486',\n   '301403',\n   '99735',\n   '363711',\n   '37053',\n   '1405236',\n   '381745',\n   '84371',\n   '1628620',\n   '1649672',\n   '1650248'],\n  [('909655', '1650248', 1.0),\n   ('1322351', '1405236', 2.0),\n   ('1322351', '1649672', 4.0),\n   ('1322351', '1650248', 7.0),\n   ('1322351', '381745', 1.0),\n   ('1322351', '84371', 1.0),\n   ('1322351', '363711', 1.0),\n   ('1322351', '1628620', 1.0),\n   ('1392773', '693865', 2.0),\n   ('1392773', '1650248', 1.0),\n   ('617339', '1650248', 1.0),\n   ('221357', '1272562', 2.0),\n   ('693865', '1650248', 1.0),\n   ('516146', '381745', 1.0),\n   ('110152', '1526486', 1.0),\n   ('709082', '1628620', 1.0),\n   ('709082', '1650248', 2.0),\n   ('709082', '1649672', 1.0),\n   ('590966', '37053', 1.0),\n   ('1272562', '1628620', 1.0),\n   ('1272562', '865122', 1.0),\n   ('1272562', '1650248', 2.0),\n   ('1272562', '99735', 1.0),\n   ('1272562', '37053', 1.0),\n   ('23675', '37053', 1.0),\n   ('1526486', '37053', 2.0),\n   ('301403', '1649672', 1.0),\n   ('99735', '1650248', 1.0),\n   ('99735', '1628620', 1.0),\n   ('363711', '1405236', 1.0),\n   ('1405236', '1650248', 2.0),\n   ('1405236', '84371', 1.0),\n   ('381745', '1628620', 1.0),\n   ('84371', '1650248', 1.0),\n   ('1628620', '1650248', 5.0),\n   ('1649672', '1650248', 5.0)]),\n (['1030536',\n   '431483',\n   '575509',\n   '643368',\n   '162309',\n   '503004',\n   '580656',\n   '587425',\n   '878884',\n   '1612831',\n   '578953',\n   '794095',\n   '1571014',\n   '581683',\n   '317985',\n   '504979',\n   '136882',\n   '157579'],\n  [('1030536', '1571014', 1.0),\n   ('1030536', '643368', 1.0),\n   ('1030536', '431483', 1.0),\n   ('1030536', '157579', 1.0),\n   ('1030536', '317985', 1.0),\n   ('431483', '504979', 1.0),\n   ('431483', '1571014', 2.0),\n   ('431483', '643368', 1.0),\n   ('431483', '587425', 1.0),\n   ('431483', '162309', 1.0),\n   ('431483', '580656', 2.0),\n   ('431483', '581683', 1.0),\n   ('431483', '136882', 1.0),\n   ('431483', '578953', 1.0),\n   ('431483', '503004', 1.0),\n   ('431483', '317985', 1.0),\n   ('431483', '878884', 2.0),\n   ('431483', '157579', 2.0),\n   ('431483', '575509', 1.0),\n   ('575509', '504979', 1.0),\n   ('575509', '587425', 1.0),\n   ('575509', '162309', 1.0),\n   ('575509', '580656', 1.0),\n   ('575509', '581683', 2.0),\n   ('575509', '578953', 1.0),\n   ('575509', '503004', 1.0),\n   ('575509', '878884', 1.0),\n   ('643368', '1571014', 1.0),\n   ('643368', '317985', 1.0),\n   ('643368', '157579', 1.0),\n   ('162309', '504979', 1.0),\n   ('162309', '587425', 1.0),\n   ('162309', '578953', 1.0),\n   ('162309', '503004', 1.0),\n   ('162309', '581683', 1.0),\n   ('162309', '878884', 1.0),\n   ('162309', '580656', 1.0),\n   ('503004', '504979', 1.0),\n   ('503004', '587425', 1.0),\n   ('503004', '580656', 1.0),\n   ('503004', '581683', 1.0),\n   ('503004', '578953', 1.0),\n   ('503004', '878884', 1.0),\n   ('580656', '504979', 1.0),\n   ('580656', '1571014', 1.0),\n   ('580656', '587425', 1.0),\n   ('580656', '136882', 1.0),\n   ('580656', '578953', 2.0),\n   ('580656', '581683', 1.0),\n   ('580656', '878884', 2.0),\n   ('580656', '157579', 1.0),\n   ('587425', '504979', 1.0),\n   ('587425', '578953', 1.0),\n   ('587425', '581683', 1.0),\n   ('587425', '878884', 1.0),\n   ('878884', '504979', 1.0),\n   ('878884', '1571014', 1.0),\n   ('878884', '581683', 1.0),\n   ('878884', '136882', 1.0),\n   ('878884', '578953', 2.0),\n   ('878884', '157579', 1.0),\n   ('1612831', '578953', 1.0),\n   ('578953', '504979', 1.0),\n   ('578953', '581683', 1.0),\n   ('794095', '136882', 2.0),\n   ('1571014', '136882', 1.0),\n   ('1571014', '317985', 1.0),\n   ('1571014', '157579', 2.0),\n   ('581683', '504979', 1.0),\n   ('317985', '157579', 1.0),\n   ('136882', '157579', 1.0)]),\n (['461316',\n   '63501',\n   '388678',\n   '449897',\n   '139259',\n   '47186',\n   '158803',\n   '100960',\n   '86849',\n   '501488',\n   '1684901',\n   '1204495',\n   '1228518'],\n  [('461316', '449897', 1.0),\n   ('461316', '388678', 1.0),\n   ('461316', '47186', 1.0),\n   ('461316', '501488', 1.0),\n   ('461316', '1204495', 1.0),\n   ('461316', '1684901', 1.0),\n   ('461316', '158803', 1.0),\n   ('461316', '1228518', 1.0),\n   ('461316', '63501', 1.0),\n   ('461316', '139259', 1.0),\n   ('461316', '100960', 1.0),\n   ('461316', '86849', 1.0),\n   ('63501', '449897', 1.0),\n   ('63501', '388678', 1.0),\n   ('63501', '47186', 1.0),\n   ('63501', '501488', 1.0),\n   ('63501', '100960', 1.0),\n   ('63501', '139259', 1.0),\n   ('63501', '1204495', 1.0),\n   ('63501', '86849', 1.0),\n   ('63501', '1228518', 1.0),\n   ('63501', '1684901', 1.0),\n   ('63501', '158803', 1.0),\n   ('388678', '449897', 1.0),\n   ('388678', '1228518', 1.0),\n   ('388678', '139259', 1.0),\n   ('388678', '501488', 1.0),\n   ('388678', '158803', 1.0),\n   ('388678', '86849', 1.0),\n   ('388678', '47186', 1.0),\n   ('388678', '1204495', 1.0),\n   ('388678', '100960', 1.0),\n   ('388678', '1684901', 1.0),\n   ('449897', '1684901', 1.0),\n   ('449897', '501488', 1.0),\n   ('449897', '139259', 1.0),\n   ('449897', '1228518', 1.0),\n   ('449897', '1204495', 1.0),\n   ('449897', '47186', 1.0),\n   ('449897', '100960', 1.0),\n   ('449897', '86849', 1.0),\n   ('449897', '158803', 1.0),\n   ('139259', '47186', 1.0),\n   ('139259', '501488', 1.0),\n   ('139259', '100960', 1.0),\n   ('139259', '158803', 1.0),\n   ('139259', '86849', 1.0),\n   ('139259', '1228518', 1.0),\n   ('139259', '1684901', 1.0),\n   ('139259', '1204495', 1.0),\n   ('47186', '1228518', 1.0),\n   ('47186', '1204495', 1.0),\n   ('47186', '100960', 1.0),\n   ('47186', '1684901', 1.0),\n   ('47186', '86849', 1.0),\n   ('47186', '501488', 1.0),\n   ('47186', '158803', 1.0),\n   ('158803', '501488', 1.0),\n   ('158803', '100960', 1.0),\n   ('158803', '1204495', 1.0),\n   ('158803', '86849', 1.0),\n   ('158803', '1228518', 1.0),\n   ('158803', '1684901', 1.0),\n   ('100960', '501488', 1.0),\n   ('100960', '1684901', 1.0),\n   ('100960', '1228518', 1.0),\n   ('100960', '1204495', 1.0),\n   ('100960', '86849', 1.0),\n   ('86849', '501488', 1.0),\n   ('86849', '1204495', 1.0),\n   ('86849', '1684901', 1.0),\n   ('86849', '1228518', 1.0),\n   ('501488', '1228518', 1.0),\n   ('501488', '1204495', 1.0),\n   ('501488', '1684901', 1.0),\n   ('1684901', '1204495', 1.0),\n   ('1684901', '1228518', 1.0),\n   ('1204495', '1228518', 1.0)]),\n (['897095',\n   '1444911',\n   '1245581',\n   '242996',\n   '912877',\n   '1162859',\n   '637552',\n   '218738',\n   '1566988',\n   '1037889',\n   '656502'],\n  [('897095', '1162859', 1.0),\n   ('897095', '218738', 1.0),\n   ('897095', '1444911', 1.0),\n   ('897095', '912877', 1.0),\n   ('897095', '1566988', 1.0),\n   ('897095', '637552', 1.0),\n   ('897095', '1037889', 1.0),\n   ('897095', '242996', 1.0),\n   ('897095', '1245581', 1.0),\n   ('1444911', '1162859', 1.0),\n   ('1444911', '218738', 1.0),\n   ('1444911', '637552', 1.0),\n   ('1444911', '1566988', 1.0),\n   ('1444911', '1245581', 1.0),\n   ('1444911', '1037889', 1.0),\n   ('1444911', '242996', 1.0),\n   ('1444911', '912877', 1.0),\n   ('1245581', '1162859', 1.0),\n   ('1245581', '218738', 1.0),\n   ('1245581', '912877', 1.0),\n   ('1245581', '1566988', 1.0),\n   ('1245581', '1037889', 1.0),\n   ('1245581', '242996', 1.0),\n   ('1245581', '637552', 1.0),\n   ('242996', '1162859', 1.0),\n   ('242996', '218738', 1.0),\n   ('242996', '912877', 1.0),\n   ('242996', '1566988', 1.0),\n   ('242996', '1037889', 1.0),\n   ('242996', '637552', 1.0),\n   ('912877', '1162859', 1.0),\n   ('912877', '218738', 1.0),\n   ('912877', '637552', 1.0),\n   ('912877', '656502', 3.0),\n   ('912877', '1037889', 1.0),\n   ('912877', '1566988', 1.0),\n   ('1162859', '1566988', 1.0),\n   ('1162859', '218738', 1.0),\n   ('1162859', '637552', 1.0),\n   ('1162859', '1037889', 1.0),\n   ('637552', '218738', 1.0),\n   ('637552', '1566988', 1.0),\n   ('637552', '1037889', 1.0),\n   ('218738', '1566988', 1.0),\n   ('218738', '1037889', 1.0),\n   ('1566988', '1037889', 1.0)]),\n (['193002',\n   '150251',\n   '1409597',\n   '1421062',\n   '1469002',\n   '1323119',\n   '1376599',\n   '1312488',\n   '150061',\n   '98019'],\n  [('193002', '150251', 1.0),\n   ('193002', '98019', 1.0),\n   ('193002', '1421062', 1.0),\n   ('193002', '1376599', 1.0),\n   ('193002', '150061', 1.0),\n   ('193002', '1312488', 1.0),\n   ('193002', '1409597', 1.0),\n   ('193002', '1323119', 1.0),\n   ('193002', '1469002', 1.0),\n   ('150251', '1323119', 1.0),\n   ('150251', '1409597', 1.0),\n   ('150251', '1376599', 1.0),\n   ('150251', '150061', 1.0),\n   ('150251', '1469002', 1.0),\n   ('150251', '98019', 1.0),\n   ('150251', '1421062', 1.0),\n   ('150251', '1312488', 1.0),\n   ('1409597', '98019', 1.0),\n   ('1409597', '1421062', 1.0),\n   ('1409597', '1376599', 1.0),\n   ('1409597', '1469002', 1.0),\n   ('1409597', '150061', 1.0),\n   ('1409597', '1323119', 1.0),\n   ('1409597', '1312488', 1.0),\n   ('1421062', '98019', 1.0),\n   ('1421062', '1312488', 1.0),\n   ('1421062', '1469002', 1.0),\n   ('1421062', '1376599', 1.0),\n   ('1421062', '1323119', 1.0),\n   ('1421062', '150061', 1.0),\n   ('1469002', '98019', 1.0),\n   ('1469002', '1376599', 1.0),\n   ('1469002', '1312488', 1.0),\n   ('1469002', '1323119', 1.0),\n   ('1469002', '150061', 1.0),\n   ('1323119', '98019', 1.0),\n   ('1323119', '1376599', 1.0),\n   ('1323119', '150061', 1.0),\n   ('1323119', '1312488', 1.0),\n   ('1376599', '98019', 1.0),\n   ('1376599', '1312488', 1.0),\n   ('1376599', '150061', 1.0),\n   ('1312488', '98019', 1.0),\n   ('1312488', '150061', 1.0),\n   ('150061', '98019', 1.0)]),\n (['1040873',\n   '550270',\n   '633971',\n   '793796',\n   '794496',\n   '505399',\n   '505365',\n   '236778',\n   '582743',\n   '236629'],\n  [('1040873', '793796', 1.0),\n   ('1040873', '236778', 1.0),\n   ('550270', '236629', 1.0),\n   ('550270', '794496', 1.0),\n   ('550270', '505399', 2.0),\n   ('550270', '633971', 1.0),\n   ('550270', '582743', 1.0),\n   ('550270', '505365', 1.0),\n   ('550270', '793796', 1.0),\n   ('633971', '236629', 1.0),\n   ('633971', '794496', 1.0),\n   ('633971', '793796', 1.0),\n   ('793796', '236629', 1.0),\n   ('793796', '794496', 1.0),\n   ('793796', '236778', 1.0),\n   ('794496', '236629', 1.0),\n   ('505399', '505365', 1.0),\n   ('505399', '582743', 1.0),\n   ('505365', '582743', 1.0)]),\n (['1552388',\n   '308178',\n   '1516036',\n   '1189046',\n   '1479616',\n   '957893',\n   '1147709',\n   '681861',\n   '1505441'],\n  [('1552388', '957893', 3.0),\n   ('1552388', '1147709', 1.0),\n   ('1552388', '1505441', 1.0),\n   ('1552388', '1516036', 2.0),\n   ('308178', '681861', 3.0),\n   ('308178', '957893', 1.0),\n   ('308178', '1189046', 2.0),\n   ('308178', '1479616', 2.0),\n   ('1516036', '1147709', 1.0),\n   ('1516036', '957893', 2.0),\n   ('1516036', '1505441', 1.0),\n   ('1189046', '681861', 3.0),\n   ('1189046', '1479616', 2.0),\n   ('1479616', '681861', 2.0),\n   ('957893', '1147709', 1.0),\n   ('957893', '1505441', 1.0),\n   ('1147709', '1505441', 1.0)]),\n (['997554',\n   '588866',\n   '1677897',\n   '505346',\n   '201347',\n   '1016750',\n   '998656',\n   '974799'],\n  [('997554', '1677897', 1.0),\n   ('997554', '1016750', 1.0),\n   ('588866', '1677897', 1.0),\n   ('588866', '505346', 1.0),\n   ('1677897', '998656', 1.0),\n   ('1677897', '1016750', 1.0),\n   ('1677897', '974799', 1.0),\n   ('1677897', '505346', 1.0),\n   ('1677897', '201347', 1.0),\n   ('201347', '998656', 1.0),\n   ('201347', '974799', 1.0),\n   ('998656', '974799', 1.0)]),\n (['1405248',\n   '1404798',\n   '1405289',\n   '1402307',\n   '1170134',\n   '1389985',\n   '1489214'],\n  [('1405248', '1404798', 1.0),\n   ('1405248', '1389985', 1.0),\n   ('1405248', '1170134', 1.0),\n   ('1405248', '1489214', 1.0),\n   ('1405248', '1405289', 1.0),\n   ('1405248', '1402307', 1.0),\n   ('1404798', '1389985', 1.0),\n   ('1404798', '1489214', 1.0),\n   ('1404798', '1405289', 1.0),\n   ('1404798', '1170134', 1.0),\n   ('1404798', '1402307', 1.0),\n   ('1405289', '1389985', 1.0),\n   ('1405289', '1170134', 1.0),\n   ('1405289', '1489214', 1.0),\n   ('1405289', '1402307', 1.0),\n   ('1402307', '1389985', 1.0),\n   ('1402307', '1170134', 1.0),\n   ('1402307', '1489214', 1.0),\n   ('1170134', '1389985', 1.0),\n   ('1170134', '1489214', 1.0),\n   ('1389985', '1489214', 1.0)])]"
     },
     "execution_count": 28,
     "metadata": {},
     "output_type": "execute_result"
    }
   ],
   "source": [
    "l = [(list(g.nodes()),[(u,v,V['weight']) for u,v,V in g.edges(data=True)]) for g in list(nx.connected_component_subgraphs(G))]\n",
    "l.sort(key=lambda V: len(V[0]), reverse = True)\n",
    "l[:10]"
   ]
  },
  {
   "cell_type": "code",
   "execution_count": 29,
   "metadata": {
    "pycharm": {
     "name": "#%%\n"
    }
   },
   "outputs": [
    {
     "name": "stderr",
     "output_type": "stream",
     "text": [
      "/home/dipsy/anaconda3/lib/python3.7/site-packages/networkx/drawing/nx_pylab.py:579: MatplotlibDeprecationWarning: \n",
      "The iterable function was deprecated in Matplotlib 3.1 and will be removed in 3.3. Use np.iterable instead.\n",
      "  if not cb.iterable(width):\n"
     ]
    },
    {
     "data": {
      "text/plain": "<Figure size 432x288 with 1 Axes>",
      "image/png": "[encoded data removed]"
     },
     "metadata": {},
     "output_type": "display_data"
    }
   ],
   "source": [
    "pos = nx.kamada_kawai_layout(G)\n",
    "options = {\n",
    "    \"node_color\": \"blue\",\n",
    "    \"node_size\": 20,\n",
    "    \"line_color\": \"grey\",\n",
    "    \"linewidths\": 1,\n",
    "    \"width\": 1,\n",
    "}\n",
    "nx.draw(G, pos, **options)\n",
    "plt.savefig(\"name.svg\")\n"
   ]
  },
  {
   "cell_type": "code",
   "execution_count": 30,
   "metadata": {},
   "outputs": [
    {
     "data": {
      "text/plain": "878"
     },
     "execution_count": 30,
     "metadata": {},
     "output_type": "execute_result"
    }
   ],
   "source": [
    "len(G.nodes())"
   ]
  },
  {
   "cell_type": "code",
   "execution_count": 44,
   "metadata": {},
   "outputs": [
    {
     "data": {
      "text/plain": "{'1312488',\n '1323119',\n '1376599',\n '1409597',\n '1421062',\n '1469002',\n '150061',\n '150251',\n '193002',\n '98019'}"
     },
     "execution_count": 44,
     "metadata": {},
     "output_type": "execute_result"
    }
   ],
   "source": [
    "components = nx.connected_components(G)\n",
    "nodes = next(components)\n",
    "nodes"
   ]
  },
  {
   "cell_type": "code",
   "execution_count": 45,
   "outputs": [
    {
     "data": {
      "text/plain": "['1376599', '150251']"
     },
     "execution_count": 45,
     "metadata": {},
     "output_type": "execute_result"
    }
   ],
   "source": [
    "graph = G.subgraph(nodes)\n",
    "nx.shortest_path(graph, '1376599', '150251')"
   ],
   "metadata": {
    "collapsed": false,
    "pycharm": {
     "name": "#%%\n"
    }
   }
  }
 ],
 "metadata": {
  "kernelspec": {
   "display_name": "Python 3",
   "language": "python",
   "name": "python3"
  },
  "language_info": {
   "codemirror_mode": {
    "name": "ipython",
    "version": 3
   },
   "file_extension": ".py",
   "mimetype": "text/x-python",
   "name": "python",
   "nbconvert_exporter": "python",
   "pygments_lexer": "ipython3",
   "version": "3.7.4"
  }
 },
 "nbformat": 4,
 "nbformat_minor": 4
}