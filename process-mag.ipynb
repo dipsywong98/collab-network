{
 "cells": [
  {
   "cell_type": "code",
   "execution_count": 1,
   "outputs": [],
   "source": [
    "import json\n",
    "import sqlite3\n"
   ],
   "metadata": {
    "collapsed": false,
    "pycharm": {
     "name": "#%%\n"
    }
   }
  },
  {
   "cell_type": "code",
   "execution_count": 4,
   "outputs": [],
   "source": [
    "data_cache_prefix = 'data_cache/'\n",
    "\n",
    "database_file = data_cache_prefix+\"author.db\""
   ],
   "metadata": {
    "collapsed": false,
    "pycharm": {
     "name": "#%%\n"
    }
   }
  },
  {
   "cell_type": "code",
   "execution_count": 5,
   "outputs": [],
   "source": [
    "def create_author_table(db_file):\n",
    "    sql = \"\"\"\n",
    "        CREATE TABLE IF NOT EXISTS authors (\n",
    "            id integer PRIMARY KEY,\n",
    "            n text NOT NULL,\n",
    "            a text,\n",
    "            t text\n",
    "        );\n",
    "        \"\"\"\n",
    "    with sqlite3.connect(db_file) as conn:\n",
    "        conn.cursor().execute(sql)\n",
    "\n",
    "\n",
    "def create_paper_table(db_file):\n",
    "    sql = \"\"\"\n",
    "        CREATE TABLE IF NOT EXISTS papers (\n",
    "            id integer PRIMARY KEY,\n",
    "            title text NOT NULL,\n",
    "            tag text\n",
    "        );\n",
    "        \"\"\"\n",
    "    with sqlite3.connect(db_file) as conn:\n",
    "        conn.cursor().execute(sql)\n",
    "\n",
    "def create_author_papers_table(db_file):\n",
    "    sql = \"\"\"\n",
    "        CREATE TABLE IF NOT EXISTS author_papers (\n",
    "            id integer PRIMARY KEY,\n",
    "            author_id text,\n",
    "            paper_id text,\n",
    "            FOREIGN KEY(author_id) REFERENCES authors(id),\n",
    "            FOREIGN KEY(paper_id) REFERENCES papers(id)\n",
    "        );\n",
    "        \"\"\"\n",
    "    with sqlite3.connect(db_file) as conn:\n",
    "        conn.cursor().execute(sql)\n",
    "\n",
    "def create_coauths_table(db_file):\n",
    "    sql = \"\"\"\n",
    "        CREATE TABLE IF NOT EXISTS coauths (\n",
    "            id integer PRIMARY KEY,\n",
    "            author1_id text,\n",
    "            author2_id text,\n",
    "            count integer,\n",
    "            FOREIGN KEY(author1_id) REFERENCES authors(id),\n",
    "            FOREIGN KEY(author2_id) REFERENCES authors(id)\n",
    "        );\n",
    "        \"\"\"\n",
    "    with sqlite3.connect(db_file) as conn:\n",
    "        conn.cursor().execute(sql)\n",
    "\n",
    "create_author_table(database_file)\n",
    "create_paper_table(database_file)\n",
    "create_author_papers_table(database_file)\n",
    "create_coauths_table(database_file)"
   ],
   "metadata": {
    "collapsed": false,
    "pycharm": {
     "name": "#%%\n"
    }
   }
  },
  {
   "cell_type": "code",
   "execution_count": 6,
   "outputs": [],
   "source": [
    "def insert_author(conn, author):\n",
    "    sql = \"\"\"\n",
    "    INSERT INTO authors (id,n,a,t) VALUES (?,?,?,?)\n",
    "    \"\"\"\n",
    "    cur = conn.cursor()\n",
    "    cur.execute(sql, author)\n",
    "    return cur.lastrowid\n",
    "\n",
    "def insert_paper(conn, paper):\n",
    "    sql = \"\"\"\n",
    "    INSERT INTO papers (id,title,tag) VALUES (?,?,?)\n",
    "    \"\"\"\n",
    "    cur = conn.cursor()\n",
    "    cur.execute(sql, paper)\n",
    "    return cur.lastrowid\n",
    "\n",
    "def insert_author_paper(conn, author_paper):\n",
    "    sql = \"\"\"\n",
    "    INSERT INTO author_papers (author_id,paper_id) VALUES (?,?)\n",
    "    \"\"\"\n",
    "    cur = conn.cursor()\n",
    "    cur.execute(sql, author_paper)\n",
    "    return cur.lastrowid\n",
    "\n",
    "\n",
    "def insert_coauth(conn, coauth):\n",
    "    sql = \"\"\"\n",
    "    INSERT INTO coauths (author1_id,author2_id,count) VALUES (?,?,?)\n",
    "    \"\"\"\n",
    "    cur = conn.cursor()\n",
    "    cur.execute(sql, coauth)\n",
    "    return cur.lastrowid"
   ],
   "metadata": {
    "collapsed": false,
    "pycharm": {
     "name": "#%%\n"
    }
   }
  },
  {
   "cell_type": "code",
   "execution_count": 7,
   "outputs": [
    {
     "name": "stdout",
     "output_type": "stream",
     "text": [
      "{'3', '1', '2'} {'A', 'V', 'h', 'l', 'm', 'r', 'x', 'C', ']', 'o', 'e', 'c', 'y', 'p', 'f', '[', ')', 'g', 'b', 'v', 'P', '285492075', 'u', ',', 'a', 't', 'n', '(', 'i', '\"', ' ', 's'}\n"
     ]
    },
    {
     "ename": "InterfaceError",
     "evalue": "Error binding parameter 0 - probably unsupported type.",
     "output_type": "error",
     "traceback": [
      "\u001B[0;31m---------------------------------------------------------------------------\u001B[0m",
      "\u001B[0;31mInterfaceError\u001B[0m                            Traceback (most recent call last)",
      "\u001B[0;32m<ipython-input-7-742a9b1b5f18>\u001B[0m in \u001B[0;36m<module>\u001B[0;34m\u001B[0m\n\u001B[1;32m     24\u001B[0m \u001B[0;34m\u001B[0m\u001B[0m\n\u001B[1;32m     25\u001B[0m \u001B[0;32mwith\u001B[0m \u001B[0msqlite3\u001B[0m\u001B[0;34m.\u001B[0m\u001B[0mconnect\u001B[0m\u001B[0;34m(\u001B[0m\u001B[0mdatabase_file\u001B[0m\u001B[0;34m)\u001B[0m \u001B[0;32mas\u001B[0m \u001B[0mconn\u001B[0m\u001B[0;34m:\u001B[0m\u001B[0;34m\u001B[0m\u001B[0;34m\u001B[0m\u001B[0m\n\u001B[0;32m---> 26\u001B[0;31m     \u001B[0mconcat_author\u001B[0m\u001B[0;34m(\u001B[0m\u001B[0mconn\u001B[0m\u001B[0;34m,\u001B[0m \u001B[0;36m285492075\u001B[0m\u001B[0;34m,\u001B[0m\u001B[0;34m'123'\u001B[0m\u001B[0;34m,\u001B[0m \u001B[0;34m[\u001B[0m\u001B[0;34m'285492075'\u001B[0m\u001B[0;34m]\u001B[0m\u001B[0;34m)\u001B[0m\u001B[0;34m\u001B[0m\u001B[0;34m\u001B[0m\u001B[0m\n\u001B[0m\u001B[1;32m     27\u001B[0m \u001B[0;34m\u001B[0m\u001B[0m\n",
      "\u001B[0;32m<ipython-input-7-742a9b1b5f18>\u001B[0m in \u001B[0;36mconcat_author\u001B[0;34m(conn, id, a, t)\u001B[0m\n\u001B[1;32m     20\u001B[0m     \"\"\"\n\u001B[1;32m     21\u001B[0m     \u001B[0mprint\u001B[0m\u001B[0;34m(\u001B[0m\u001B[0ma_\u001B[0m\u001B[0;34m,\u001B[0m \u001B[0mt_\u001B[0m\u001B[0;34m)\u001B[0m\u001B[0;34m\u001B[0m\u001B[0;34m\u001B[0m\u001B[0m\n\u001B[0;32m---> 22\u001B[0;31m     \u001B[0mcur\u001B[0m\u001B[0;34m.\u001B[0m\u001B[0mexecute\u001B[0m\u001B[0;34m(\u001B[0m\u001B[0msql\u001B[0m\u001B[0;34m,\u001B[0m \u001B[0;34m[\u001B[0m\u001B[0ma_\u001B[0m\u001B[0;34m,\u001B[0m\u001B[0mt_\u001B[0m\u001B[0;34m,\u001B[0m\u001B[0mid\u001B[0m\u001B[0;34m]\u001B[0m\u001B[0;34m)\u001B[0m\u001B[0;34m\u001B[0m\u001B[0;34m\u001B[0m\u001B[0m\n\u001B[0m\u001B[1;32m     23\u001B[0m     \u001B[0;32mreturn\u001B[0m \u001B[0mcur\u001B[0m\u001B[0;34m.\u001B[0m\u001B[0mlastrowid\u001B[0m\u001B[0;34m\u001B[0m\u001B[0;34m\u001B[0m\u001B[0m\n\u001B[1;32m     24\u001B[0m \u001B[0;34m\u001B[0m\u001B[0m\n",
      "\u001B[0;31mInterfaceError\u001B[0m: Error binding parameter 0 - probably unsupported type."
     ]
    }
   ],
   "source": [
    "def concat_author(conn, id, a, t):\n",
    "    sql = \"\"\"\n",
    "    SELECT a,t FROM authors WHERE id=?\n",
    "    \"\"\"\n",
    "    cur = conn.cursor()\n",
    "    a_,t_ = cur.execute(sql, [id]).fetchone()\n",
    "    if a is not None:\n",
    "        if a_ is not None:\n",
    "            a_ = set(a_)\n",
    "            a_.add(a)\n",
    "        else:\n",
    "            a_ = set(a)\n",
    "    t_ = set(t_)\n",
    "    t_.update(t)\n",
    "    sql = \"\"\"\n",
    "    UPDATE authors SET\n",
    "    a=?,\n",
    "    t=?\n",
    "    WHERE id=?\n",
    "    \"\"\"\n",
    "    print(a_, t_)\n",
    "    cur.execute(sql, [a_,t_,id])\n",
    "    return cur.lastrowid\n",
    "\n",
    "with sqlite3.connect(database_file) as conn:\n",
    "    concat_author(conn, 285492075,'123', ['285492075'])"
   ],
   "metadata": {
    "collapsed": false,
    "pycharm": {
     "name": "#%%\n"
    }
   }
  },
  {
   "cell_type": "code",
   "execution_count": 6,
   "metadata": {
    "collapsed": true
   },
   "outputs": [
    {
     "name": "stdout",
     "output_type": "stream",
     "text": [
      "0\n"
     ]
    }
   ],
   "source": [
    "authors = {}\n",
    "papers = {}\n",
    "coauths = {}\n",
    "author_papers = []\n",
    "\n",
    "steps = 0\n",
    "with sqlite3.connect(database_file) as conn:\n",
    "    with open('data/mathPaper.txt') as file:\n",
    "        for line in file:\n",
    "            if steps == 10000:\n",
    "                break\n",
    "            if steps % 10000 == 0:\n",
    "                print(steps)\n",
    "            steps += 1\n",
    "            paper = json.loads(line)\n",
    "            insert_paper(conn, (paper['id'], paper['title'], json.dumps(paper['tag'])))\n",
    "            paper['authors'].sort(key=lambda it: it['id'])\n",
    "            for k, author in enumerate(paper['authors']):\n",
    "                if not (author['id'] in coauths):\n",
    "                    insert_author(conn, (author['id'], author['name'], (json.dumps([author['org']]) if 'org' in author else None), json.dumps([list(paper['tag'])])))\n",
    "                    coauths[author['id']] = {}\n",
    "                else:\n",
    "                    concat_author(conn, author['id'], (author['org'] if 'org' in author else None), list(paper['tag']))\n",
    "                insert_author_paper(conn, (author['id'], paper['id']))\n",
    "                for co in paper['authors'][k+1:]:\n",
    "                    if co['id'] in coauths[author['id']]:\n",
    "                        coauths[author['id']][co['id']] += 1\n",
    "                    else:\n",
    "                        coauths[author['id']][co['id']] = 1"
   ]
  },
  {
   "cell_type": "code",
   "execution_count": 7,
   "outputs": [],
   "source": [
    "import networkx as nx\n",
    "from lib.cache import *"
   ],
   "metadata": {
    "collapsed": false,
    "pycharm": {
     "name": "#%%\n"
    }
   }
  },
  {
   "cell_type": "code",
   "execution_count": 8,
   "outputs": [],
   "source": [
    "G = nx.Graph()\n",
    "for author_id1 in coauths:\n",
    "    for author_id2 in coauths[author_id1]:\n",
    "        G.add_edge(author_id1, author_id2, weight=coauths[author_id1][author_id2])\n",
    "\n",
    "save_graph(G, 'whole_graph')"
   ],
   "metadata": {
    "collapsed": false,
    "pycharm": {
     "name": "#%%\n"
    }
   }
  },
  {
   "cell_type": "code",
   "execution_count": 9,
   "outputs": [],
   "source": [
    "# if G.number_of_nodes() < 100:\n",
    "# nx.draw(G)"
   ],
   "metadata": {
    "collapsed": false,
    "pycharm": {
     "name": "#%%\n"
    }
   }
  },
  {
   "cell_type": "code",
   "execution_count": 10,
   "outputs": [],
   "source": [
    "# G.number_of_nodes()"
   ],
   "metadata": {
    "collapsed": false,
    "pycharm": {
     "name": "#%%\n"
    }
   }
  },
  {
   "cell_type": "code",
   "execution_count": 11,
   "outputs": [],
   "source": [
    "# from pyvis.network import Network\n",
    "#\n",
    "# g = Network(height=800, width=800, notebook=True)\n",
    "# g.toggle_hide_edges_on_drag(True)\n",
    "# g.barnes_hut()\n",
    "# g.from_nx(G)\n",
    "# g.show('tmp.html')"
   ],
   "metadata": {
    "collapsed": false,
    "pycharm": {
     "name": "#%%\n"
    }
   }
  }
 ],
 "metadata": {
  "kernelspec": {
   "display_name": "Python 3",
   "language": "python",
   "name": "python3"
  },
  "language_info": {
   "codemirror_mode": {
    "name": "ipython",
    "version": 2
   },
   "file_extension": ".py",
   "mimetype": "text/x-python",
   "name": "python",
   "nbconvert_exporter": "python",
   "pygments_lexer": "ipython2",
   "version": "2.7.6"
  }
 },
 "nbformat": 4,
 "nbformat_minor": 0
}