{
 "cells": [
  {
   "cell_type": "code",
   "execution_count": 2,
   "outputs": [],
   "source": [
    "import sqlite3"
   ],
   "metadata": {
    "collapsed": false,
    "pycharm": {
     "name": "#%%\n"
    }
   }
  },
  {
   "cell_type": "code",
   "execution_count": 3,
   "metadata": {
    "collapsed": true
   },
   "outputs": [],
   "source": [
    "with sqlite3.connect('../data_cache/test.db') as conn:\n",
    "        conn.cursor().execute('''DROP TABLE IF EXISTS test''')\n",
    "        conn.cursor().execute('''\n",
    "        CREATE TABLE IF NOT EXISTS test (\n",
    "        id int PRIMARY KEY,\n",
    "        col text\n",
    "        )''')"
   ]
  },
  {
   "cell_type": "code",
   "execution_count": 5,
   "outputs": [],
   "source": [
    "with conn:\n",
    "    conn.cursor().execute('''\n",
    "        INSERT INTO test (id, col) VALUES (1, ?)\n",
    "    ''', ['[1,2,3]'])"
   ],
   "metadata": {
    "collapsed": false,
    "pycharm": {
     "name": "#%%\n"
    }
   }
  },
  {
   "cell_type": "code",
   "execution_count": 24,
   "outputs": [],
   "source": [
    "with conn:\n",
    "    conn.cursor().execute(\"\"\"\n",
    "    UPDATE test SET col=json_insert(col, '$[' || json_array_length(col) || ']',5) WHERE id=1\n",
    "    \"\"\")"
   ],
   "metadata": {
    "collapsed": false,
    "pycharm": {
     "name": "#%%\n"
    }
   }
  }
 ],
 "metadata": {
  "kernelspec": {
   "display_name": "Python 3",
   "language": "python",
   "name": "python3"
  },
  "language_info": {
   "codemirror_mode": {
    "name": "ipython",
    "version": 2
   },
   "file_extension": ".py",
   "mimetype": "text/x-python",
   "name": "python",
   "nbconvert_exporter": "python",
   "pygments_lexer": "ipython2",
   "version": "2.7.6"
  }
 },
 "nbformat": 4,
 "nbformat_minor": 0
}